{
 "cells": [
  {
   "cell_type": "code",
   "execution_count": 1,
   "metadata": {},
   "outputs": [],
   "source": [
    "import pandas as pd\n",
    "import numpy as np\n",
    "import matplotlib.pyplot as plt"
   ]
  },
  {
   "cell_type": "code",
   "execution_count": 2,
   "metadata": {},
   "outputs": [],
   "source": [
    "data = pd.read_csv('handwriting.csv')"
   ]
  },
  {
   "cell_type": "code",
   "execution_count": 13,
   "metadata": {},
   "outputs": [],
   "source": [
    "d = data.iloc[:, 0].values\n",
    "X = data.iloc[:, 1:].values\n",
    "y = d % 2"
   ]
  },
  {
   "cell_type": "code",
   "execution_count": 35,
   "metadata": {},
   "outputs": [],
   "source": [
    "def image_data(X, i):\n",
    "    return X[i].reshape(28, 28)\n",
    "\n",
    "def indicator(d, v):\n",
    "    return [1 if di in v else -1 for di in d]\n",
    "\n",
    "def func_loss(wbar, mu, X, y):\n",
    "    w_0 = wbar[0]\n",
    "    w = wbar[1:]\n",
    "    return mu * np.linalg.norm(w, 2)**2 + np.mean(np.maximum(1 - y * (w_0 + X.dot(w))))\n",
    "\n",
    "def grad_loss(wbar, mu, X, y):\n",
    "    w_0 = wbar[0]\n",
    "    w = wbar[1:]\n",
    "    N = len(wbar)\n",
    "    mask = 1 - y * (w_0 + X.dot(w)) >= 0\n",
    "    \n",
    "    subgradient = np.zeros(N)\n",
    "    subgradient[0] = -np.mean(y[mask])\n",
    "    subgradient[1:] = 2 * mu * w - np.mean(y[mask] * X[mask], axis=0)"
   ]
  },
  {
   "cell_type": "code",
   "execution_count": 21,
   "metadata": {},
   "outputs": [
    {
     "data": {
      "image/png": "[encoded data removed]",
      "text/plain": [
       "<Figure size 640x480 with 1 Axes>"
      ]
     },
     "metadata": {},
     "output_type": "display_data"
    }
   ],
   "source": [
    "axes = plt.figure().add_axes((0, 0, 1, 1))\n",
    "i=3\n",
    "axes.imshow(image_data(X, i), cmap='gray')\n",
    "plt.show()"
   ]
  },
  {
   "cell_type": "code",
   "execution_count": null,
   "metadata": {},
   "outputs": [],
   "source": []
  }
 ],
 "metadata": {
  "kernelspec": {
   "display_name": "Python 3",
   "language": "python",
   "name": "python3"
  },
  "language_info": {
   "codemirror_mode": {
    "name": "ipython",
    "version": 3
   },
   "file_extension": ".py",
   "mimetype": "text/x-python",
   "name": "python",
   "nbconvert_exporter": "python",
   "pygments_lexer": "ipython3",
   "version": "3.9.6"
  }
 },
 "nbformat": 4,
 "nbformat_minor": 2
}
